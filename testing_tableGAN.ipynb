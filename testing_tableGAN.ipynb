{
 "cells": [
  {
   "cell_type": "code",
   "execution_count": null,
   "metadata": {},
   "outputs": [],
   "source": [
    "ls -l data/Adult/"
   ]
  },
  {
   "cell_type": "markdown",
   "metadata": {},
   "source": [
    "python3 -m pdb myscript.py"
   ]
  },
  {
   "cell_type": "code",
   "execution_count": null,
   "metadata": {},
   "outputs": [],
   "source": [
    "%run -m pdb main.py --train --dataset=Adult --epoch=5 --test_id=OI_11_00"
   ]
  },
  {
   "cell_type": "code",
   "execution_count": null,
   "metadata": {},
   "outputs": [],
   "source": [
    "%run main.py --train --dataset=Adult --epoch=10 --test_id=OI_11_00"
   ]
  },
  {
   "cell_type": "markdown",
   "metadata": {},
   "source": [
    "Restart and clear output before proceeding.. read this paper first.."
   ]
  },
  {
   "cell_type": "code",
   "execution_count": 1,
   "metadata": {
    "scrolled": false
   },
   "outputs": [
    {
     "name": "stdout",
     "output_type": "stream",
     "text": [
      "> \u001b[0;32m/tf/notebooks/tableGAN/main.py\u001b[0m(6)\u001b[0;36m<module>\u001b[0;34m()\u001b[0m\n",
      "\u001b[0;32m      4 \u001b[0;31m\u001b[0mCreated\u001b[0m \u001b[0;34m:\u001b[0m \u001b[0;36m0\u001b[0m\u001b[0;36m7\u001b[0m\u001b[0;34m/\u001b[0m\u001b[0;36m20\u001b[0m\u001b[0;34m/\u001b[0m\u001b[0;36m2017\u001b[0m\u001b[0;34m\u001b[0m\u001b[0;34m\u001b[0m\u001b[0m\n",
      "\u001b[0m\u001b[0;32m      5 \u001b[0;31m\u001b[0mModified\u001b[0m\u001b[0;34m:\u001b[0m \u001b[0;36m10\u001b[0m\u001b[0;34m/\u001b[0m\u001b[0;36m15\u001b[0m\u001b[0;34m/\u001b[0m\u001b[0;36m2018\u001b[0m\u001b[0;34m\u001b[0m\u001b[0;34m\u001b[0m\u001b[0m\n",
      "\u001b[0m\u001b[0;32m----> 6 \u001b[0;31m\"\"\"\n",
      "\u001b[0m\u001b[0;32m      7 \u001b[0;31m\u001b[0;32mimport\u001b[0m \u001b[0mos\u001b[0m\u001b[0;34m\u001b[0m\u001b[0;34m\u001b[0m\u001b[0m\n",
      "\u001b[0m\u001b[0;32m      8 \u001b[0;31m\u001b[0;32mimport\u001b[0m \u001b[0mdatetime\u001b[0m\u001b[0;34m\u001b[0m\u001b[0;34m\u001b[0m\u001b[0m\n",
      "\u001b[0m\n",
      "ipdb> quit\n"
     ]
    }
   ],
   "source": [
    "%run -m pdb main.py --dataset=Adult --test_id=OI_11_00"
   ]
  },
  {
   "cell_type": "code",
   "execution_count": 2,
   "metadata": {
    "scrolled": false
   },
   "outputs": [
    {
     "name": "stdout",
     "output_type": "stream",
     "text": [
      "WARNING:tensorflow:\n",
      "The TensorFlow contrib module will not be included in TensorFlow 2.0.\n",
      "For more information, please see:\n",
      "  * https://github.com/tensorflow/community/blob/master/rfcs/20180907-contrib-sunset.md\n",
      "  * https://github.com/tensorflow/addons\n",
      "  * https://github.com/tensorflow/io (for I/O related ops)\n",
      "If you depend on functionality not listed there, please file an issue.\n",
      "\n",
      "{'id': 'OI_11_00', 'alpha': 1.0, 'beta': 1.0, 'delta_v': 0.0, 'delta_m': 0.0}\n",
      "{'?': <absl.app.HelpFlag object at 0x7f91f9bc1b70>,\n",
      " 'alpha': <absl.flags._flag.Flag object at 0x7f91f9bc1588>,\n",
      " 'alsologtostderr': <absl.flags._flag.BooleanFlag object at 0x7f92366a6f28>,\n",
      " 'attrib_num': <absl.flags._flag.Flag object at 0x7f91f9bc1978>,\n",
      " 'batch_size': <absl.flags._flag.Flag object at 0x7f91f9e70fd0>,\n",
      " 'beta': <absl.flags._flag.Flag object at 0x7f91f9bc1630>,\n",
      " 'beta1': <absl.flags._flag.Flag object at 0x7f9206429f98>,\n",
      " 'checkpoint_dir': <absl.flags._flag.Flag object at 0x7f91f9bc1320>,\n",
      " 'checkpoint_par_dir': <absl.flags._flag.Flag object at 0x7f91f9bc12b0>,\n",
      " 'crop': <absl.flags._flag.BooleanFlag object at 0x7f91f9bc1470>,\n",
      " 'dataset': <absl.flags._flag.Flag object at 0x7f91f9bc1240>,\n",
      " 'delta_m': <absl.flags._flag.Flag object at 0x7f91f9bc16d8>,\n",
      " 'delta_v': <absl.flags._flag.Flag object at 0x7f91f9bc1780>,\n",
      " 'epoch': <absl.flags._flag.Flag object at 0x7f9283672828>,\n",
      " 'feature_size': <absl.flags._flag.Flag object at 0x7f91f9bc1a20>,\n",
      " 'generate_data': <absl.flags._flag.BooleanFlag object at 0x7f91f9bc14e0>,\n",
      " 'help': <absl.app.HelpFlag object at 0x7f91f9bc1b70>,\n",
      " 'helpfull': <absl.app.HelpfullFlag object at 0x7f91f9bc1c88>,\n",
      " 'helpshort': <absl.app.HelpshortFlag object at 0x7f91f9bc1c18>,\n",
      " 'helpxml': <absl.app.HelpXMLFlag object at 0x7f91f9bc1cf8>,\n",
      " 'input_height': <absl.flags._flag.Flag object at 0x7f91f9e57be0>,\n",
      " 'input_width': <absl.flags._flag.Flag object at 0x7f91f9bc10b8>,\n",
      " 'label_col': <absl.flags._flag.Flag object at 0x7f91f9bc18d0>,\n",
      " 'learning_rate': <absl.flags._flag.Flag object at 0x7f9206429cf8>,\n",
      " 'log_dir': <absl.flags._flag.Flag object at 0x7f92366a6fd0>,\n",
      " 'logger_levels': <absl.logging._LoggerLevelsFlag object at 0x7f92366b1160>,\n",
      " 'logtostderr': <absl.flags._flag.BooleanFlag object at 0x7f92366a6a20>,\n",
      " 'only_check_args': <absl.flags._flag.BooleanFlag object at 0x7f92366b1908>,\n",
      " 'op_conversion_fallback_to_while_loop': <absl.flags._flag.BooleanFlag object at 0x7f9234d6fa90>,\n",
      " 'output_height': <absl.flags._flag.Flag object at 0x7f91f9bc1128>,\n",
      " 'output_width': <absl.flags._flag.Flag object at 0x7f91f9bc11d0>,\n",
      " 'pdb': <absl.flags._defines.DEFINE_alias.<locals>._FlagAlias object at 0x7f92369474e0>,\n",
      " 'pdb_post_mortem': <absl.flags._flag.BooleanFlag object at 0x7f9236947470>,\n",
      " 'profile_file': <absl.flags._flag.Flag object at 0x7f92366b1860>,\n",
      " 'run_with_pdb': <absl.flags._flag.BooleanFlag object at 0x7f92366a6080>,\n",
      " 'run_with_profiling': <absl.flags._flag.BooleanFlag object at 0x7f92366b17b8>,\n",
      " 'sample_dir': <absl.flags._flag.Flag object at 0x7f91f9bc13c8>,\n",
      " 'shadow_gan': <absl.flags._flag.BooleanFlag object at 0x7f91f9bc1a58>,\n",
      " 'shgan_input_type': <absl.flags._flag.Flag object at 0x7f91f9bc1b38>,\n",
      " 'showprefixforinfo': <absl.flags._flag.BooleanFlag object at 0x7f92366b13c8>,\n",
      " 'stderrthreshold': <absl.logging._StderrthresholdFlag object at 0x7f9236a69a90>,\n",
      " 'test_id': <absl.flags._flag.Flag object at 0x7f91f9bc1828>,\n",
      " 'test_random_seed': <absl.flags._flag.Flag object at 0x7f920d71b470>,\n",
      " 'test_randomize_ordering_seed': <absl.flags._flag.Flag object at 0x7f920d6a3518>,\n",
      " 'test_srcdir': <absl.flags._flag.Flag object at 0x7f920d71b5c0>,\n",
      " 'test_tmpdir': <absl.flags._flag.Flag object at 0x7f920d71b7b8>,\n",
      " 'train': <absl.flags._flag.BooleanFlag object at 0x7f91f9bc1400>,\n",
      " 'train_size': <absl.flags._flag.Flag object at 0x7f9206431c88>,\n",
      " 'use_cprofile_for_profiling': <absl.flags._flag.BooleanFlag object at 0x7f92366b1898>,\n",
      " 'v': <absl.logging._VerbosityFlag object at 0x7f92366b1080>,\n",
      " 'verbosity': <absl.logging._VerbosityFlag object at 0x7f92366b1080>,\n",
      " 'xml_output_file': <absl.flags._flag.Flag object at 0x7f920d6a3e48>,\n",
      " 'y_dim': <absl.flags._flag.Flag object at 0x7f91fa9e6240>}\n",
      "2\n",
      "Chekcpoint : checkpoint/Adult/OI_11_00\n",
      "Loading CSV input file : data/Adult/Adult.csv\n",
      "Loading CSV input file : data/Adult/Adult_labels.csv\n",
      "Final Real Data shape = (2000, 7, 7)\n",
      "c_dim 1= 1\n",
      "WARNING:tensorflow:From /tf/notebooks/tableGAN/ops.py:108: The name tf.get_variable is deprecated. Please use tf.compat.v1.get_variable instead.\n",
      "\n"
     ]
    },
    {
     "name": "stderr",
     "output_type": "stream",
     "text": [
      "W0309 03:07:35.837784 140267269830464 module_wrapper.py:139] From /tf/notebooks/tableGAN/ops.py:108: The name tf.get_variable is deprecated. Please use tf.compat.v1.get_variable instead.\n",
      "\n"
     ]
    },
    {
     "name": "stdout",
     "output_type": "stream",
     "text": [
      " G Shape z : (500, 256)\n",
      "False\n",
      "D Shape h3: (500, 1)\n",
      "False\n",
      "D Shape h3: (500, 1)\n",
      "i_shape = [500, 7, 7, 1]\n",
      "t_shape = [500, 49]\n",
      "WARNING:tensorflow:From /tf/notebooks/tableGAN/ops.py:145: where (from tensorflow.python.ops.array_ops) is deprecated and will be removed in a future version.\n",
      "Instructions for updating:\n",
      "Use tf.where in 2.0, which has the same broadcast rule as np.where\n"
     ]
    },
    {
     "name": "stderr",
     "output_type": "stream",
     "text": [
      "W0309 03:07:36.441272 140267269830464 deprecation.py:323] From /tf/notebooks/tableGAN/ops.py:145: where (from tensorflow.python.ops.array_ops) is deprecated and will be removed in a future version.\n",
      "Instructions for updating:\n",
      "Use tf.where in 2.0, which has the same broadcast rule as np.where\n"
     ]
    },
    {
     "name": "stdout",
     "output_type": "stream",
     "text": [
      "WARNING:tensorflow:From /tf/notebooks/tableGAN/model.py:188: to_float (from tensorflow.python.ops.math_ops) is deprecated and will be removed in a future version.\n",
      "Instructions for updating:\n",
      "Use `tf.cast` instead.\n"
     ]
    },
    {
     "name": "stderr",
     "output_type": "stream",
     "text": [
      "W0309 03:07:36.507949 140267269830464 deprecation.py:323] From /tf/notebooks/tableGAN/model.py:188: to_float (from tensorflow.python.ops.math_ops) is deprecated and will be removed in a future version.\n",
      "Instructions for updating:\n",
      "Use `tf.cast` instead.\n"
     ]
    },
    {
     "name": "stdout",
     "output_type": "stream",
     "text": [
      "Feature Size = 266\n",
      "---------\n",
      "Variables: name (type shape) [size]\n",
      "---------\n",
      "generator/g_h0_lin/Matrix:0 (float32_ref 102x256) [26112, bytes: 104448]\n",
      "generator/g_h0_lin/bias:0 (float32_ref 256) [256, bytes: 1024]\n",
      "generator/g_bn0/beta:0 (float32_ref 256) [256, bytes: 1024]\n",
      "generator/g_bn0/gamma:0 (float32_ref 256) [256, bytes: 1024]\n",
      "generator/g_h2/w:0 (float32_ref 5x5x128x258) [825600, bytes: 3302400]\n",
      "generator/g_h2/biases:0 (float32_ref 128) [128, bytes: 512]\n",
      "generator/g_bn2/beta:0 (float32_ref 128) [128, bytes: 512]\n",
      "generator/g_bn2/gamma:0 (float32_ref 128) [128, bytes: 512]\n",
      "generator/g_h3/w:0 (float32_ref 5x5x64x130) [208000, bytes: 832000]\n",
      "generator/g_h3/biases:0 (float32_ref 64) [64, bytes: 256]\n",
      "generator/g_bn3/beta:0 (float32_ref 64) [64, bytes: 256]\n",
      "generator/g_bn3/gamma:0 (float32_ref 64) [64, bytes: 256]\n",
      "generator/g_h4/w:0 (float32_ref 5x5x1x66) [1650, bytes: 6600]\n",
      "generator/g_h4/biases:0 (float32_ref 1) [1, bytes: 4]\n",
      "discriminator/d_h0_conv/w:0 (float32_ref 5x5x3x3) [225, bytes: 900]\n",
      "discriminator/d_h0_conv/biases:0 (float32_ref 3) [3, bytes: 12]\n",
      "discriminator/d_h1_conv/w:0 (float32_ref 5x5x5x66) [8250, bytes: 33000]\n",
      "discriminator/d_h1_conv/biases:0 (float32_ref 66) [66, bytes: 264]\n",
      "discriminator/d_bn1/beta:0 (float32_ref 66) [66, bytes: 264]\n",
      "discriminator/d_bn1/gamma:0 (float32_ref 66) [66, bytes: 264]\n",
      "discriminator/d_h3_lin/Matrix:0 (float32_ref 266x1) [266, bytes: 1064]\n",
      "discriminator/d_h3_lin/bias:0 (float32_ref 1) [1, bytes: 4]\n",
      "classification/c_h0_conv/w:0 (float32_ref 5x5x3x3) [225, bytes: 900]\n",
      "classification/c_h0_conv/biases:0 (float32_ref 3) [3, bytes: 12]\n",
      "classification/c_h1_conv/w:0 (float32_ref 5x5x5x66) [8250, bytes: 33000]\n",
      "classification/c_h1_conv/biases:0 (float32_ref 66) [66, bytes: 264]\n",
      "classification/c_bn1/beta:0 (float32_ref 66) [66, bytes: 264]\n",
      "classification/c_bn1/gamma:0 (float32_ref 66) [66, bytes: 264]\n",
      "classification/c_h3_lin/Matrix:0 (float32_ref 266x1) [266, bytes: 1064]\n",
      "classification/c_h3_lin/bias:0 (float32_ref 1) [1, bytes: 4]\n",
      "Total size of variables: 1080593\n",
      "Total bytes of variables: 4322372\n",
      " [*] Reading checkpoints from checkpoint/Adult/OI_11_00 ...\n",
      "Adult_500_7_7\n",
      "checkpoint dir: checkpoint/Adult/OI_11_00/Adult_500_7_7\n",
      "model_checkpoint_path: \"checkpoint/Adult/OI_11_00/Adult_500_7_7/tableGAN_model-2\"\n",
      "all_model_checkpoint_paths: \"checkpoint/Adult/OI_11_00/Adult_500_7_7/tableGAN_model-2\"\n",
      "\n",
      "INFO:tensorflow:Restoring parameters from checkpoint/Adult/OI_11_00/Adult_500_7_7/tableGAN_model-2\n"
     ]
    },
    {
     "name": "stderr",
     "output_type": "stream",
     "text": [
      "I0309 03:07:36.755560 140267269830464 saver.py:1284] Restoring parameters from checkpoint/Adult/OI_11_00/Adult_500_7_7/tableGAN_model-2\n"
     ]
    },
    {
     "name": "stdout",
     "output_type": "stream",
     "text": [
      " [*] Success to read tableGAN_model-2\n",
      "Start Generatig Data .... \n",
      " [*] 0\n",
      "y shape (500, 1)\n",
      " [*] 1\n",
      "y shape (500, 1)\n",
      " [*] 2\n",
      "y shape (500, 1)\n",
      " [*] 3\n",
      "y shape (500, 1)\n",
      " Fake Data shape= (2000, 14)\n",
      "Rounding column: 0\n",
      "Rounding column: 1\n",
      "Rounding column: 2\n",
      "Rounding column: 3\n",
      "Rounding column: 4\n",
      "Rounding column: 5\n",
      "Rounding column: 6\n",
      "Rounding column: 7\n",
      "Rounding column: 8\n",
      "Rounding column: 9\n",
      "Rounding column: 10\n",
      "Rounding column: 11\n",
      "Rounding column: 12\n",
      "Rounding column: 13\n",
      "Generated Data shape = (2000, 14)\n",
      "Time Elapsed: \n",
      "0:00:05.890826\n"
     ]
    }
   ],
   "source": [
    "%run main.py --dataset=Adult --test_id=OI_11_00"
   ]
  },
  {
   "cell_type": "code",
   "execution_count": null,
   "metadata": {},
   "outputs": [],
   "source": [
    "?locals"
   ]
  },
  {
   "cell_type": "code",
   "execution_count": null,
   "metadata": {},
   "outputs": [],
   "source": [
    "import pandas as pd"
   ]
  },
  {
   "cell_type": "code",
   "execution_count": null,
   "metadata": {},
   "outputs": [],
   "source": [
    "origin_data = pd.read_csv(\"data/Adult/Adult.csv\")"
   ]
  },
  {
   "cell_type": "code",
   "execution_count": null,
   "metadata": {},
   "outputs": [],
   "source": [
    "?origin_data.astype"
   ]
  }
 ],
 "metadata": {
  "kernelspec": {
   "display_name": "Python 3",
   "language": "python",
   "name": "python3"
  },
  "language_info": {
   "codemirror_mode": {
    "name": "ipython",
    "version": 3
   },
   "file_extension": ".py",
   "mimetype": "text/x-python",
   "name": "python",
   "nbconvert_exporter": "python",
   "pygments_lexer": "ipython3",
   "version": "3.6.9"
  }
 },
 "nbformat": 4,
 "nbformat_minor": 4
}
